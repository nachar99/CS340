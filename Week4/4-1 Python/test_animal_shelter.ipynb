{
 "cells": [
  {
   "cell_type": "code",
   "execution_count": 1,
   "id": "f55461db",
   "metadata": {},
   "outputs": [],
   "source": [
    "from animal_shelter import AnimalShelter"
   ]
  },
  {
   "cell_type": "code",
   "execution_count": 2,
   "id": "3b49865a",
   "metadata": {},
   "outputs": [
    {
     "name": "stdout",
     "output_type": "stream",
     "text": [
      "Insert Successful: True\n"
     ]
    }
   ],
   "source": [
    "shelter = AnimalShelter()\n",
    "\n",
    "new_animal = {\n",
    "    \"name\": \"TestLion\",\n",
    "    \"animal_type\": \"Lion\",\n",
    "    \"breed\": \"Cape Lion\",\n",
    "    \"age_upon_outcome\": \"5 years\",\n",
    "    \"outcome_type\": \"Adoption\"\n",
    "}\n",
    "\n",
    "result = shelter.create(new_animal)\n",
    "print(\"Insert Successful:\", result)"
   ]
  },
  {
   "cell_type": "code",
   "execution_count": 3,
   "id": "7f22c401",
   "metadata": {},
   "outputs": [
    {
     "name": "stdout",
     "output_type": "stream",
     "text": [
      "{'rec_num': 1, 'age_upon_outcome': '3 years', 'animal_id': 'A746874', 'animal_type': 'Cat', 'breed': 'Domestic Shorthair Mix', 'color': 'Black/White', 'date_of_birth': '2014-04-10', 'datetime': '2017-04-11 09:00:00', 'monthyear': '2017-04-11T09:00:00', 'name': '', 'outcome_subtype': 'SCRP', 'outcome_type': 'Transfer', 'sex_upon_outcome': 'Neutered Male', 'location_lat': 30.5066578739455, 'location_long': -97.3408780722188, 'age_upon_outcome_in_weeks': 156.767857142857}\n",
      "{'rec_num': 2, 'age_upon_outcome': '1 year', 'animal_id': 'A725717', 'animal_type': 'Cat', 'breed': 'Domestic Shorthair Mix', 'color': 'Silver Tabby', 'date_of_birth': '2015-05-02', 'datetime': '2016-05-06 10:49:00', 'monthyear': '2016-05-06T10:49:00', 'name': '', 'outcome_subtype': 'SCRP', 'outcome_type': 'Transfer', 'sex_upon_outcome': 'Spayed Female', 'location_lat': 30.6525984560228, 'location_long': -97.7419963476444, 'age_upon_outcome_in_weeks': 52.9215277777778}\n",
      "{'rec_num': 3, 'age_upon_outcome': '2 years', 'animal_id': 'A716330', 'animal_type': 'Dog', 'breed': 'Chihuahua Shorthair Mix', 'color': 'Brown/White', 'date_of_birth': '2013-11-18', 'datetime': '2015-12-28 18:43:00', 'monthyear': '2015-12-28T18:43:00', 'name': 'Frank', 'outcome_subtype': '', 'outcome_type': 'Adoption', 'sex_upon_outcome': 'Neutered Male', 'location_lat': 30.7595748121648, 'location_long': -97.5523753807133, 'age_upon_outcome_in_weeks': 110.111408730159}\n",
      "{'rec_num': 4, 'age_upon_outcome': '7 months', 'animal_id': 'A733653', 'animal_type': 'Cat', 'breed': 'Siamese Mix', 'color': 'Seal Point', 'date_of_birth': '2016-01-25', 'datetime': '2016-08-27 18:11:00', 'monthyear': '2016-08-27T18:11:00', 'name': 'Kitty', 'outcome_subtype': '', 'outcome_type': 'Adoption', 'sex_upon_outcome': 'Intact Female', 'location_lat': 30.3188063374257, 'location_long': -97.7240376703891, 'age_upon_outcome_in_weeks': 30.8225198412698}\n",
      "{'rec_num': 5, 'age_upon_outcome': '2 years', 'animal_id': 'A691584', 'animal_type': 'Dog', 'breed': 'Labrador Retriever Mix', 'color': 'Tan/White', 'date_of_birth': '2012-11-06', 'datetime': '2015-05-30 13:48:00', 'monthyear': '2015-05-30T13:48:00', 'name': 'Luke', 'outcome_subtype': '', 'outcome_type': 'Return to Owner', 'sex_upon_outcome': 'Neutered Male', 'location_lat': 30.7104815618433, 'location_long': -97.562297435286, 'age_upon_outcome_in_weeks': 133.653571428571}\n"
     ]
    }
   ],
   "source": [
    "results = shelter.read({})\n",
    "for r in results[:5]:\n",
    "    print(r)"
   ]
  },
  {
   "cell_type": "code",
   "execution_count": null,
   "id": "14c9fe1a",
   "metadata": {},
   "outputs": [],
   "source": []
  }
 ],
 "metadata": {
  "kernelspec": {
   "display_name": "Python 3 (ipykernel)",
   "language": "python",
   "name": "python3"
  },
  "language_info": {
   "codemirror_mode": {
    "name": "ipython",
    "version": 3
   },
   "file_extension": ".py",
   "mimetype": "text/x-python",
   "name": "python",
   "nbconvert_exporter": "python",
   "pygments_lexer": "ipython3",
   "version": "3.9.12"
  }
 },
 "nbformat": 4,
 "nbformat_minor": 5
}
